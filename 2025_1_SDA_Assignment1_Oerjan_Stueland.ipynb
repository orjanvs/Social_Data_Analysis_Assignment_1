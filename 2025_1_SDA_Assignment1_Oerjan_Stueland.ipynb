{
  "nbformat": 4,
  "nbformat_minor": 0,
  "metadata": {
    "colab": {
      "provenance": [],
      "include_colab_link": true
    },
    "kernelspec": {
      "name": "python3",
      "display_name": "Python 3"
    },
    "language_info": {
      "name": "python"
    }
  },
  "cells": [
    {
      "cell_type": "markdown",
      "metadata": {
        "id": "view-in-github",
        "colab_type": "text"
      },
      "source": [
        "<a href=\"https://colab.research.google.com/github/orjanvs/Social_Data_Analysis_Assignment_1/blob/main/2025_1_SDA_Assignment1_Oerjan_Stueland.ipynb\" target=\"_parent\"><img src=\"https://colab.research.google.com/assets/colab-badge.svg\" alt=\"Open In Colab\"/></a>"
      ]
    },
    {
      "cell_type": "markdown",
      "metadata": {
        "id": "O7DKqlM8agjC"
      },
      "source": [
        "# Introduction to Social Dasta Analysis | Coding Assignment 1\n",
        "\n",
        "**Assginment Due: April 4, 11:59pm**\n",
        "\n",
        "Please read carefully the instruction for the assignment (which is available on the eClass website).\n",
        "\n",
        "1. Before starting this assignment\n",
        "- Please make sure to save this notebook in your Google Drive\n",
        "- Please add your name and student ID number in the text cell below\n",
        "- Please copy and paste your Co-lab notebook address (make sure to change its sharing setting to \"Anyone with the link\").<br>\n",
        "\n",
        "\n",
        "2. While you are doing this assignment\n",
        "- You can refer to any textbooks or lecture slides, but please do the assginment **by yourself**.\n",
        "- You can discuss this assignment with your classmates, but you must do this assignment **by yourself**.\n",
        "- Please make sure to annotate your codes to show that you know what you are doing (Please see the example below)\n",
        "- Please **DO NOT** use generative AIs to do this assignment    \n",
        "\n",
        "```\n",
        "1 a = 100 # Assign 100 to variable a\n",
        "2 a += 100 # Assign the reuslt of a + 100 to a\n",
        "3 print(a) # Printing the value of a\n",
        "```\n",
        "\n",
        "3. To submit your assignment\n",
        "- Please make sure to excute each and every cell to disply the resultts\n",
        "- Please turn in your assignment on the eClass website in pdf format.\n",
        "- Please see the syllabus for the late submission policy\n",
        "\n",
        "\n",
        "\n"
      ]
    },
    {
      "cell_type": "markdown",
      "metadata": {
        "id": "6jW0gXnFZuX8"
      },
      "source": [
        "## Name and Student ID:\n",
        "\n",
        "Please add your ID and Name here:\n",
        "\n",
        "Student ID & Name: 50251131 Oerjan Stueland\n"
      ]
    },
    {
      "cell_type": "markdown",
      "metadata": {
        "id": "UxJ713dtZlP5"
      },
      "source": [
        "## Link to your co-lab notebook\n",
        "\n",
        "Please copy and paste the link to your co-lab notebook in the text cell below\n"
      ]
    },
    {
      "cell_type": "markdown",
      "source": [
        "Link Address (co-lab notebook): https://colab.research.google.com/drive/1xTjVZfebYAoZ9GCgW3iD2pEJQQv8HwND?usp=drive_link\n"
      ],
      "metadata": {
        "id": "NMNvLuguRQd2"
      }
    },
    {
      "cell_type": "markdown",
      "metadata": {
        "id": "YKiv7XAAbrhO"
      },
      "source": [
        "###Q1 (.25%)\n",
        "\n",
        "Please write a Python code using the `input()` function to get a number `n` and return the same number for `n` times. (Please see the example below). The results do not have to be identifical to the example below. <br><br>\n",
        "\n",
        "-\n",
        "Example: <br>\n",
        "\n",
        "Enter a number: 10  <br>\n",
        "Results: 10101010101010101010       <br>\n"
      ]
    },
    {
      "cell_type": "code",
      "metadata": {
        "id": "ajMJCMDbagRj",
        "colab": {
          "base_uri": "https://localhost:8080/"
        },
        "outputId": "306a500c-e52d-4bdb-d9f7-9269b5e71531"
      },
      "source": [
        "# Please write your codes here\n",
        "\n",
        "user_input = input(\"Enter a number: \") #Stores the user input into a variable\n",
        "if (user_input.isdigit()): #Checks to see if the input string is a digit.\n",
        "  user_input_int = int(user_input) #If the statement returns true, it converts the string to int and stores it in a variable\n",
        "  if (user_input_int > 0): #Checks to see if the input is more than zero.\n",
        "    print(user_input * user_input_int) #Multiplies the input string with the converted int value of the input.\n",
        "  else:\n",
        "    print(\"Input must be a number higher than zero\") #Prints error message if number is zero or less.\n",
        "else:\n",
        "  print(\"Input must be a number\") #Prints error if input is not a digit.\n",
        "\n",
        "\n"
      ],
      "execution_count": null,
      "outputs": [
        {
          "output_type": "stream",
          "name": "stdout",
          "text": [
            "Enter a number: 13\n",
            "13131313131313131313131313\n"
          ]
        }
      ]
    },
    {
      "cell_type": "markdown",
      "source": [],
      "metadata": {
        "id": "Mi8_lYqwm3Ww"
      }
    },
    {
      "cell_type": "markdown",
      "metadata": {
        "id": "tSYbT_LXcNPf"
      },
      "source": [
        "### Q2 (.25%)\n",
        "\n",
        "Please see the example below. Write a Python program to get two numbers to perform arithmetic operations (addition, subsraction, multiplication, and division). Make sure to use the `input()` function. Your answer does not have to be idneitifical to the example below.<br>\n",
        "\n",
        "<br>\n",
        "Example: <br>\n",
        "\n",
        "\n",
        "Enter the first number: 15<br>\n",
        "Enter the second number: 32<br>\n",
        "\n",
        "Results: <br>\n",
        "Addition: 47<br>\n",
        "Substraction: -17<br>\n",
        "Muliplication: 480<br>\n",
        "Division: 0.4687<br>\n",
        "\n"
      ]
    },
    {
      "cell_type": "code",
      "metadata": {
        "id": "LH8c_KoZcKcX",
        "colab": {
          "base_uri": "https://localhost:8080/"
        },
        "outputId": "255e0c5d-836c-4f11-d7a0-4605cf5fe183"
      },
      "source": [
        "# Please write your codes here\n",
        "\n",
        "#Stores the inputs into two separate variables\n",
        "first_number = input(\"Enter the first number: \")\n",
        "second_number = input(\"Enter the second number: \")\n",
        "\n",
        "\n",
        "if (first_number.isdigit() and second_number.isdigit()): #Checks to see if the inputs are digits\n",
        "  #Converts the string inputs to int\n",
        "  first_number = int(first_number)\n",
        "  second_number = int(second_number)\n",
        "  #Does the arithmetic operations and prints the values.\n",
        "  print(\"Addition: \", first_number + second_number)\n",
        "  print(\"Subtraction: \", first_number - second_number)\n",
        "  print(\"Multiplication: \", first_number * second_number)\n",
        "  if (second_number != 0): #Checks to see if the number is not zero as divison by zero is not possible.\n",
        "    print(\"Division: \", first_number / second_number)\n",
        "  else:\n",
        "    print(\"Division: Cannot divide by zero\")\n",
        "else:\n",
        "  print(\"Inputs must be a number\")\n"
      ],
      "execution_count": null,
      "outputs": [
        {
          "output_type": "stream",
          "name": "stdout",
          "text": [
            "Enter the first number: 55\n",
            "Enter the second number: 68\n",
            "Addition:  123\n",
            "Subtraction:  -13\n",
            "Multiplication:  3740\n",
            "Division:  0.8088235294117647\n"
          ]
        }
      ]
    },
    {
      "cell_type": "markdown",
      "metadata": {
        "id": "R_yHRKrFH04-"
      },
      "source": [
        "###Q3 (.25%)\n",
        "\n",
        "Write a Python program for an ATM machine that caculates how many notes (assume that there are two types of notes; 50,000 and 10,000) are necessary if someone wants to withdraw some money. Please see the example below.\n",
        "\n",
        "**Your answer does not need to be identical to the example below.** <br><br>\n",
        "\n",
        "Example:\n",
        "How much would you like to withdraw? 1675300 <br>\n",
        "50,000 notes: 33 <br>\n",
        "10,000 notes: 2 <br>\n",
        "Reminder : 5300 <br>\n",
        "\n"
      ]
    },
    {
      "cell_type": "code",
      "metadata": {
        "id": "6Wj0ehOSacM2",
        "colab": {
          "base_uri": "https://localhost:8080/"
        },
        "outputId": "d44403dc-4c49-4780-a654-70a0a8f0a56b"
      },
      "source": [
        "# Please write your codes here\n",
        "\n",
        "\n",
        "withdrawal_amount = input(\"How much to withdraw?: \") #Stores the user input into a variable\n",
        "if (withdrawal_amount.isdigit()): #Checks to see if the input string is a digit.\n",
        "  withdrawal_amount = int(withdrawal_amount) #If the statement returns true, it converts the string to int.\n",
        "  if (withdrawal_amount > 0): #Checks to see if the input is more than zero.\n",
        "    fifty_k_notes = withdrawal_amount // 50000 #Calculates the amount of 50k notes\n",
        "    withdrawal_amount = withdrawal_amount % 50000 #Using modulus to calculate the remainder after withdrawing the 50k notes.\n",
        "    ten_k_notes = withdrawal_amount // 10000 #Calculates the amount of 10k notes from the remaining amount after withdrawing the 50k notes.\n",
        "    withdrawal_amount = withdrawal_amount % 10000 #Using modulus to calculate the remainder after withdrawing the 10k notes.\n",
        "    #Prints the results\n",
        "    print(\"50,000 notes: \", fifty_k_notes)\n",
        "    print(\"10,000 notes: \", ten_k_notes)\n",
        "    print(\"Remainder: \", withdrawal_amount)\n",
        "  else:\n",
        "    print(\"Input must be a number higher than zero\") #Prints error message if number is zero or less.\n",
        "else:\n",
        "  print(\"Input must be a number\") #Prints error if input is not a digit.\n",
        "\n",
        "\n",
        "\n"
      ],
      "execution_count": null,
      "outputs": [
        {
          "output_type": "stream",
          "name": "stdout",
          "text": [
            "How much to withdraw?: 1375000\n",
            "50,000 notes:  27\n",
            "10,000 notes:  2\n",
            "Remainder:  5000\n"
          ]
        }
      ]
    },
    {
      "cell_type": "markdown",
      "metadata": {
        "id": "0ADL6KB5YXwd"
      },
      "source": [
        "### Q4 (.25%)\n",
        "\n",
        "Please use indexing and slicing to extract name and student ID number from a user input using the `input()` function. Please see the example below (your answer does not have to be identifical to the example below).\n",
        "\n",
        "<br><br>\n",
        "Example:\n",
        "\n",
        "What is you ID and name (please enter it in ID/Name format): (20##2260/Minchul Kim) <br>\n",
        "ID:20##2260<br>\n",
        "Name:Minchul Kim<br>"
      ]
    },
    {
      "cell_type": "code",
      "metadata": {
        "id": "9fHjQ5neYYQO",
        "colab": {
          "base_uri": "https://localhost:8080/"
        },
        "outputId": "95c7706b-d6ea-4f4e-f485-e63bb15c2f2a"
      },
      "source": [
        "# Please write your codes here\n",
        "\n",
        "user_input = input('Enter ID and name (enter in format: \"ID/Name\"): ') #Stores the user input in a variable\n",
        "id = user_input[:8] #Slices everything from the 8th and before and stores it in a variable.\n",
        "if (id.isdigit()): #Checks to see if the sliced characters are digits\n",
        "  name = user_input[9:]  #Slices everything from the 9th index and after and stores it in a variable.\n",
        "  if (name.replace(' ','').isalpha()): #Checks to see if the string is all alphabet characters.\n",
        "                                       #Pythons .isalpha() method does not allow spaces,\n",
        "                                       #therefore the .replace() method is used to remove them before evaluating the condition.\n",
        "    #If statement returns true, it prints the ID and name.\n",
        "    print(\"ID: \", id)\n",
        "    print(\"Name: \", name)\n",
        "  else:\n",
        "    print(\"Invalid name. Name can only contain alphabet letters\") #Prints error message if the string is not alphabet characters.\n",
        "else:\n",
        "  print(\"Invalid ID. ID can only contain digits\") #Prints an error message if the string is not all digits.\n",
        "\n",
        "\n",
        "\n",
        "\n"
      ],
      "execution_count": null,
      "outputs": [
        {
          "output_type": "stream",
          "name": "stdout",
          "text": [
            "Enter ID and name (enter in format: \"ID/Name\"): 50251131/Oerjan Stueland\n",
            "ID:  50251131\n",
            "Name:  Oerjan Stueland\n"
          ]
        }
      ]
    },
    {
      "cell_type": "markdown",
      "metadata": {
        "id": "WV91DmfEKWXa"
      },
      "source": [
        "###Q5 (.25%)\n",
        "\n",
        "Use `input()` to get a string from users. Write a Python program that returns the length of the string, and print the string in reverse order.  Your answer does not have to be identical to the example below.\n",
        "\n",
        "\n",
        "Example:\n",
        "\n",
        "Please enter a string : Data Analysis<br>\n",
        "Length: 13 <br>\n",
        "Reversed: sisylanA ataD <br>\n",
        "\n",
        "\n"
      ]
    },
    {
      "cell_type": "code",
      "source": [
        "# Please write your codes here\n",
        "\n",
        "user_input = input(\"Enter string: \") #Stores user input string in variable\n",
        "print(\"Length: \", len(user_input)) #Uses the len() method to count the length of the string and print it.\n",
        "\n",
        "#Uses the slicing start:stop:step parameters. The double colon uses the whole string,\n",
        "#-1 prints it one step at a time from the last index to have it print reversed.\n",
        "print(\"Reversed: \", user_input[::-1])"
      ],
      "metadata": {
        "id": "U-gnUqciUzaR",
        "colab": {
          "base_uri": "https://localhost:8080/"
        },
        "outputId": "0b8a79b6-6072-4554-84fd-b87e747a591f"
      },
      "execution_count": null,
      "outputs": [
        {
          "output_type": "stream",
          "name": "stdout",
          "text": [
            "Enter string: Hello World\n",
            "Length:  11\n",
            "Reversed:  dlroW olleH\n"
          ]
        }
      ]
    },
    {
      "cell_type": "markdown",
      "metadata": {
        "id": "pPTlm04gv2C6"
      },
      "source": [
        "###Q6 (.25%)\n",
        "\n",
        "See the following example. Please write a program that gets an input from a user using the `input()` function for seven times. Create a list with the numbers. Please print the entire component and return the largest and smallest values in the list. **Please DO NOT use any methods and functions that were not covered in the previous class sessions (e.g., min/max)**.\n",
        "\n",
        "\n",
        "Please do not use either `for` or `while` for this assignment. Your answer does not have to be identical to the example below.\n",
        "<br><br>\n",
        "\n",
        "\n",
        "Example:\n",
        "\n",
        "Please enter data 1: 382 <br>\n",
        "Please enter data 2: 3237 <br>\n",
        "Please enter data 3: 3923 <br>\n",
        "Please enter data 4: 43 <br>\n",
        "Please enter data 5: 637 <br>\n",
        "Please enter data 6: 2304 <br>\n",
        "Please enter data 7: 206 <br>\n",
        "List: [382, 3237, 3923, 43, 637, 2304, 206] <br>\n",
        "The largest component is: 3923 <br>\n",
        "The samllest component is:  43 <br>\n",
        "\n",
        "\n"
      ]
    },
    {
      "cell_type": "code",
      "metadata": {
        "id": "G23ACV9BH4xk",
        "colab": {
          "base_uri": "https://localhost:8080/"
        },
        "outputId": "a10f2f67-8ec4-4188-efbd-0acfc34be1de"
      },
      "source": [
        "# Please write your codes here\n",
        "\n",
        "list = [] #Creates an empty list\n",
        "\n",
        "#Seperate variable for each input.\n",
        "#Each input is converted to int to allow for sorting of the numbers.\n",
        "data_1 = int(input(\"Enter data 1: \"))\n",
        "data_2 = int(input(\"Enter data 2: \"))\n",
        "data_3 = int(input(\"Enter data 3: \"))\n",
        "data_4 = int(input(\"Enter data 4: \"))\n",
        "data_5 = int(input(\"Enter data 5: \"))\n",
        "data_6 = int(input(\"Enter data 6: \"))\n",
        "data_7 = int(input(\"Enter data 7: \"))\n",
        "\n",
        "list.extend([data_1, data_2, data_3, data_4, data_5, data_6, data_7]) #Adds all the inputs to the list\n",
        "\n",
        "print(\"List: \", list) #Prints the list in the order of input\n",
        "list.sort() #Sorts the list\n",
        "print(\"Largest component: \", list[-1]) #Prints the last index in the sorted list\n",
        "print(\"Smallest component: \", list[0]) #Prints the first index in the sorted list\n",
        "\n",
        "\n",
        "\n",
        "\n",
        "\n",
        "\n",
        "\n",
        "\n",
        "\n",
        "\n",
        "\n"
      ],
      "execution_count": null,
      "outputs": [
        {
          "output_type": "stream",
          "name": "stdout",
          "text": [
            "Enter data 1: 15\n",
            "Enter data 2: 102\n",
            "Enter data 3: 5\n",
            "Enter data 4: 36\n",
            "Enter data 5: 54\n",
            "Enter data 6: 19\n",
            "Enter data 7: 28\n",
            "List:  [15, 102, 5, 36, 54, 19, 28]\n",
            "Largest component:  102\n",
            "Smallest component:  5\n"
          ]
        }
      ]
    }
  ]
}